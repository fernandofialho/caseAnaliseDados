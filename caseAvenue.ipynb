{
  "nbformat": 4,
  "nbformat_minor": 0,
  "metadata": {
    "colab": {
      "provenance": [],
      "collapsed_sections": [
        "T__B8IPznl_D",
        "QGsKpT4DjXDv",
        "UqCEspD2oLpn",
        "APXyCpwNoXMk",
        "qotwiORPolVc",
        "QeGPU_l8owo0"
      ]
    },
    "kernelspec": {
      "name": "python3",
      "display_name": "Python 3"
    },
    "language_info": {
      "name": "python"
    }
  },
  "cells": [
    {
      "cell_type": "markdown",
      "source": [
        "### Tratamento dos dados"
      ],
      "metadata": {
        "id": "T__B8IPznl_D"
      }
    },
    {
      "cell_type": "code",
      "source": [
        "import pandas as pd"
      ],
      "metadata": {
        "id": "qN6-QtpIa3DS"
      },
      "execution_count": 2,
      "outputs": []
    },
    {
      "cell_type": "code",
      "source": [
        "df_account = pd.read_csv(\"ACCOUNT.csv\")\n",
        "df_responsavel = pd.read_csv(\"RESPONSAVEL.csv\", encoding=\"latin1\")\n",
        "df_transaction = pd.read_csv(\"TRANSACTION.csv\")"
      ],
      "metadata": {
        "id": "3TJ2kXw-ntZ3"
      },
      "execution_count": null,
      "outputs": []
    },
    {
      "cell_type": "markdown",
      "source": [
        "Remoção de colunas \"unnamed\" da tabela TRANSACTION"
      ],
      "metadata": {
        "id": "DM-N7Tyonx8z"
      }
    },
    {
      "cell_type": "code",
      "source": [
        "df_transaction = df_transaction.loc[:, ~df_transaction.columns.str.startswith('Unnamed:')]"
      ],
      "metadata": {
        "id": "39tNPFO4a7Ej"
      },
      "execution_count": 3,
      "outputs": []
    },
    {
      "cell_type": "markdown",
      "source": [
        "Prepara os DataFrames para análise ao garantir que as colunas selecionadas estejam em um formato numérico adequado, limpando caracteres indesejados e convertendo valores textuais em números."
      ],
      "metadata": {
        "id": "NU42ar6NjLld"
      }
    },
    {
      "cell_type": "code",
      "execution_count": 6,
      "metadata": {
        "id": "91S1Qqp4a0rD"
      },
      "outputs": [],
      "source": [
        "def clean_and_convert(df, cols, replace_dict=None):\n",
        "    for col in cols:\n",
        "        if col in df.columns:\n",
        "            if replace_dict:\n",
        "                for pattern, repl in replace_dict.items():\n",
        "                    df[col] = df[col].replace(pattern, repl, regex=True)\n",
        "            df[col] = pd.to_numeric(df[col], errors='coerce')\n",
        "    return df\n",
        "\n",
        "df_account = clean_and_convert(df_account, ['AUC'])\n",
        "df_transaction = clean_and_convert(df_transaction, ['value'], {'[,]' : ''})\n",
        "df_responsavel = clean_and_convert(df_responsavel, ['max_account_load', 'transaction_target', 'transaction_C_target'], {'[,]' : '', 'R\\$': ''})\n"
      ]
    },
    {
      "cell_type": "markdown",
      "source": [
        "### Pergunta 1: Verificar se a quantidade de contas por responsável respeita os valores de \"max_account_load\""
      ],
      "metadata": {
        "id": "QGsKpT4DjXDv"
      }
    },
    {
      "cell_type": "markdown",
      "source": [
        "Primeiro, conta o número de contas por responsável e, em seguida, compara esse número com o limite máximo. Por fim, exibe os responsáveis que estão dentro do limite e aqueles que excedem o limite."
      ],
      "metadata": {
        "id": "74IVqPL0oFFU"
      }
    },
    {
      "cell_type": "code",
      "source": [
        "contas_por_responsavel = df_account.groupby('responsavel_id').size().reset_index(name='quantidade_contas')\n",
        "df_verificacao = contas_por_responsavel.merge(df_responsavel[['responsavel_id', 'max_account_load']], on='responsavel_id')\n",
        "df_verificacao['dentro_do_limite'] = df_verificacao['quantidade_contas'] <= df_verificacao['max_account_load']\n",
        "\n",
        "print(\"Resultados da verificação:\")\n",
        "print(df_verificacao)\n",
        "\n",
        "df_excedentes = df_verificacao[~df_verificacao['dentro_do_limite']]\n",
        "print(\"\\nResponsáveis que excedem o limite:\")\n",
        "print(df_excedentes)"
      ],
      "metadata": {
        "colab": {
          "base_uri": "https://localhost:8080/"
        },
        "id": "Lej6-HSjbg-r",
        "outputId": "a2aed084-57ce-4752-9f5b-d9067fd240c8"
      },
      "execution_count": 7,
      "outputs": [
        {
          "output_type": "stream",
          "name": "stdout",
          "text": [
            "Resultados da verificação:\n",
            "  responsavel_id  quantidade_contas  max_account_load  dentro_do_limite\n",
            "0         000000                 95               NaN             False\n",
            "1         0001AG                  9              15.0              True\n",
            "2         0001DM                 16              15.0             False\n",
            "3         0001JT                 16              15.0             False\n",
            "4         0001LL                 20              15.0             False\n",
            "5         0001LM                 15              15.0              True\n",
            "6         0001RP                 12              15.0              True\n",
            "7         0001TR                 17              15.0             False\n",
            "\n",
            "Responsáveis que excedem o limite:\n",
            "  responsavel_id  quantidade_contas  max_account_load  dentro_do_limite\n",
            "0         000000                 95               NaN             False\n",
            "2         0001DM                 16              15.0             False\n",
            "3         0001JT                 16              15.0             False\n",
            "4         0001LL                 20              15.0             False\n",
            "7         0001TR                 17              15.0             False\n"
          ]
        }
      ]
    },
    {
      "cell_type": "markdown",
      "source": [
        "### Pergunta 2: Calcular o valor transacionado por responsável"
      ],
      "metadata": {
        "id": "UqCEspD2oLpn"
      }
    },
    {
      "cell_type": "markdown",
      "source": [
        "Calcula o valor total transacionado por cada responsável, associando as transações aos responsáveis e somando os valores. Após o cálculo, os valores são formatados como valores monetários em reais BRL e combinados com os nomes dos responsáveis. O resultado é exibido para cada responsável com o valor total transacionado."
      ],
      "metadata": {
        "id": "KvswoAUBkcSE"
      }
    },
    {
      "cell_type": "code",
      "source": [
        "df_transaction.rename(columns={'transaction_value': 'value'}, inplace=True)\n",
        "df_transacoes_contas = df_transaction.merge(df_account[['client_id', 'responsavel_id']], on='client_id')\n",
        "valor_transacionado_por_responsavel = df_transacoes_contas.groupby('responsavel_id')['value'].sum().reset_index(name='valor_total_transacionado')\n",
        "valor_transacionado_por_responsavel['valor_total_transacionado'] = valor_transacionado_por_responsavel['valor_total_transacionado'].apply(lambda x: f'R${x:,.2f}')\n",
        "df_resultado = valor_transacionado_por_responsavel.merge(df_responsavel[['responsavel_id', 'name']], on='responsavel_id')\n",
        "\n",
        "print(\"Valor total transacionado por responsável:\")\n",
        "print(df_resultado)"
      ],
      "metadata": {
        "colab": {
          "base_uri": "https://localhost:8080/"
        },
        "id": "0OmOSE5Mbm0g",
        "outputId": "b3b2df8c-9e57-419e-c90b-1cedeb79fdc5"
      },
      "execution_count": 8,
      "outputs": [
        {
          "output_type": "stream",
          "name": "stdout",
          "text": [
            "Valor total transacionado por responsável:\n",
            "  responsavel_id valor_total_transacionado     name\n",
            "0         000000            R$6,543,508.00  DIGITAL\n",
            "1         0001AG              R$504,709.00  Antonyo\n",
            "2         0001DM              R$800,798.00   Daniel\n",
            "3         0001JT            R$1,481,962.00     João\n",
            "4         0001LL            R$1,220,359.00    Lucas\n",
            "5         0001LM              R$922,451.00      Liz\n",
            "6         0001RP              R$728,256.00   Rafael\n",
            "7         0001TR              R$895,436.00    Tomas\n"
          ]
        }
      ]
    },
    {
      "cell_type": "markdown",
      "source": [
        "### Pergunta 3: Levando em consideração a coluna \"kind\", calcule os valores creditados, debitados  e o valor liquido por responsável"
      ],
      "metadata": {
        "id": "APXyCpwNoXMk"
      }
    },
    {
      "cell_type": "markdown",
      "source": [
        "Mapeia os tipos de transações para facilitar a distinção entre creditado e debitado. Em seguida, junta os dados de contas e transações, calcula os totais para cada tipo de transação e o valor líquido. Finalmente, adiciona os nomes dos responsáveis aos resultados e exibe essas informações."
      ],
      "metadata": {
        "id": "XbmalcrnkxNz"
      }
    },
    {
      "cell_type": "code",
      "source": [
        "df_transaction['kind'] = df_transaction['kind'].map({'C': 'credited', 'D': 'debited'})\n",
        "merged_df = pd.merge(df_account, df_transaction, on='client_id', how='left')\n",
        "summary = merged_df.groupby(['responsavel_id', 'kind'])['value'].sum().unstack(fill_value=0)\n",
        "summary['net_value'] = summary.get('credited', 0) - summary.get('debited', 0)\n",
        "result = summary.reset_index()\n",
        "result = pd.merge(result, df_responsavel[['responsavel_id', 'name']], on='responsavel_id', how='left')\n",
        "\n",
        "print(\"Valores creditados, debitados e valor líquido por responsável:\")\n",
        "print(result)"
      ],
      "metadata": {
        "colab": {
          "base_uri": "https://localhost:8080/"
        },
        "id": "VAMM-IWrbppw",
        "outputId": "497e66ed-2ad2-4b42-a92f-1ae34da5760c"
      },
      "execution_count": 9,
      "outputs": [
        {
          "output_type": "stream",
          "name": "stdout",
          "text": [
            "Valores creditados, debitados e valor líquido por responsável:\n",
            "  responsavel_id   credited    debited  net_value     name\n",
            "0         000000  3697270.0  2846238.0   851032.0  DIGITAL\n",
            "1         0001AG   232632.0   272077.0   -39445.0  Antonyo\n",
            "2         0001DM   355244.0   445554.0   -90310.0   Daniel\n",
            "3         0001JT   328346.0  1153616.0  -825270.0     João\n",
            "4         0001LL   495913.0   724446.0  -228533.0    Lucas\n",
            "5         0001LM   787756.0   134695.0   653061.0      Liz\n",
            "6         0001RP   290080.0   438176.0  -148096.0   Rafael\n",
            "7         0001TR   537088.0   358348.0   178740.0    Tomas\n"
          ]
        }
      ]
    },
    {
      "cell_type": "markdown",
      "source": [
        "### Pergunta 4: Demonstre quais responsáveis atingiram os objetivos de \"transaction_target\" e \"transaction_C_target\"\n"
      ],
      "metadata": {
        "id": "qotwiORPolVc"
      }
    },
    {
      "cell_type": "markdown",
      "source": [
        "Primeiramente, soma os valores das transações e integra esses dados com os objetivos. Em seguida, verifica se cada responsável alcançou os objetivos de transação e crédito, e se ambos foram atingidos simultaneamente. O total de responsáveis que atingiram ambos os objetivos é exibido junto com os valores correspondentes. Também são apresentados detalhes formatados para esses responsáveis. Finalmente, são mostrados os totais para os responsáveis que não atingiram nenhum dos objetivos, incluindo valores transacionados e creditados."
      ],
      "metadata": {
        "id": "rzNWiv3PlEMg"
      }
    },
    {
      "cell_type": "code",
      "source": [
        "summary['total_transacted'] = summary.sum(axis=1)\n",
        "result = pd.merge(summary.reset_index(), df_responsavel[['responsavel_id', 'name', 'transaction_target', 'transaction_C_target']], on='responsavel_id', how='left')\n",
        "result['target_achieved'] = result['total_transacted'] >= result['transaction_target']\n",
        "result['credit_target_achieved'] = result.get('credited', 0) >= result['transaction_C_target']\n",
        "\n",
        "result['both_targets_achieved'] = result['target_achieved'] & result['credit_target_achieved']\n",
        "achieved_both_targets = result[result['both_targets_achieved']]\n",
        "\n",
        "total_achieved_both = len(achieved_both_targets)\n",
        "total_transacted_both = achieved_both_targets['total_transacted'].sum()\n",
        "total_credited_both = achieved_both_targets['credited'].sum()\n",
        "\n",
        "print(f\"Total de responsáveis que atingiram ambos os objetivos: {total_achieved_both}\")\n",
        "print(f\"Valor total transacionado por responsáveis que atingiram ambos os objetivos: R${total_transacted_both:,.2f}\")\n",
        "print(f\"Valor total creditado por responsáveis que atingiram ambos os objetivos: R${total_credited_both:,.2f}\")\n",
        "\n",
        "if not achieved_both_targets.empty:\n",
        "    print(\"\\nDetalhes dos responsáveis que atingiram ambos os objetivos:\")\n",
        "\n",
        "    columns_to_display = [\n",
        "        'responsavel_id', 'name', 'total_transacted',\n",
        "        'credited', 'transaction_target',\n",
        "        'transaction_C_target', 'target_achieved', 'credit_target_achieved'\n",
        "    ]\n",
        "\n",
        "    achieved_both_targets_display = achieved_both_targets[columns_to_display].copy()\n",
        "    achieved_both_targets_display['total_transacted'] = achieved_both_targets_display['total_transacted'].apply(lambda x: f'R${x:,.2f}')\n",
        "    achieved_both_targets_display['credited'] = achieved_both_targets_display['credited'].apply(lambda x: f'R${x:,.2f}')\n",
        "    achieved_both_targets_display['transaction_target'] = achieved_both_targets_display['transaction_target'].apply(lambda x: f'R${x:,.2f}')\n",
        "    achieved_both_targets_display['transaction_C_target'] = achieved_both_targets_display['transaction_C_target'].apply(lambda x: f'R${x:,.2f}')\n",
        "\n",
        "    achieved_both_targets_display = achieved_both_targets_display.sort_values(by='name')\n",
        "\n",
        "    print(achieved_both_targets_display.to_string(index=False))\n",
        "\n",
        "not_achieved_targets = result[~result['both_targets_achieved']]\n",
        "\n",
        "total_not_achieved = len(not_achieved_targets)\n",
        "total_transacted_not_achieved = not_achieved_targets['total_transacted'].sum()\n",
        "total_credited_not_achieved = not_achieved_targets['credited'].sum()\n",
        "\n",
        "print(f\"\\nTotal de responsáveis que não atingiram nenhum objetivo: {total_not_achieved}\")\n",
        "print(f\"Valor total transacionado por responsáveis que não atingiram nenhum objetivo: R${total_transacted_not_achieved:,.2f}\")\n",
        "print(f\"Valor total creditado por responsáveis que não atingiram nenhum objetivo: R${total_credited_not_achieved:,.2f}\")\n",
        "\n",
        "if not not_achieved_targets.empty:\n",
        "    print(\"\\nDetalhes dos responsáveis que não atingiram nenhum dos objetivos:\")\n",
        "\n",
        "    columns_to_display_not_achieved = [\n",
        "        'responsavel_id', 'name', 'total_transacted',\n",
        "        'credited', 'transaction_target',\n",
        "        'transaction_C_target', 'target_achieved', 'credit_target_achieved'\n",
        "    ]\n",
        "\n",
        "    not_achieved_targets_display = not_achieved_targets[columns_to_display_not_achieved].copy()\n",
        "    not_achieved_targets_display['total_transacted'] = not_achieved_targets_display['total_transacted'].apply(lambda x: f'R${x:,.2f}')\n",
        "    not_achieved_targets_display['credited'] = not_achieved_targets_display['credited'].apply(lambda x: f'R${x:,.2f}')\n",
        "    not_achieved_targets_display['transaction_target'] = not_achieved_targets_display['transaction_target'].apply(lambda x: f'R${x:,.2f}')\n",
        "    not_achieved_targets_display['transaction_C_target'] = not_achieved_targets_display['transaction_C_target'].apply(lambda x: f'R${x:,.2f}')\n",
        "\n",
        "    not_achieved_targets_display = not_achieved_targets_display.sort_values(by='name')\n",
        "\n",
        "    print(not_achieved_targets_display.to_string(index=False))\n"
      ],
      "metadata": {
        "colab": {
          "base_uri": "https://localhost:8080/"
        },
        "id": "X_A4poXTbtIj",
        "outputId": "216906ad-080f-4912-a45a-dff66e927e0c"
      },
      "execution_count": 39,
      "outputs": [
        {
          "output_type": "stream",
          "name": "stdout",
          "text": [
            "Total de responsáveis que atingiram ambos os objetivos: 6\n",
            "Valor total transacionado por responsáveis que atingiram ambos os objetivos: R$210,854,978.00\n",
            "Valor total creditado por responsáveis que atingiram ambos os objetivos: R$6,201,617.00\n",
            "\n",
            "Detalhes dos responsáveis que atingiram ambos os objetivos:\n",
            "responsavel_id    name total_transacted       credited transaction_target transaction_C_target  target_achieved  credit_target_achieved\n",
            "        000000 DIGITAL R$125,707,180.00 R$3,697,270.00       R$950,000.00       R$2,100,000.00             True                    True\n",
            "        0001DM  Daniel  R$12,078,296.00   R$355,244.00       R$157,500.00         R$350,000.00             True                    True\n",
            "        0001JT    João  R$11,163,764.00   R$328,346.00        R$99,000.00         R$220,000.00             True                    True\n",
            "        0001LM     Liz  R$26,783,704.00   R$787,756.00       R$139,500.00         R$310,000.00             True                    True\n",
            "        0001LL   Lucas  R$16,861,042.00   R$495,913.00       R$130,500.00         R$290,000.00             True                    True\n",
            "        0001TR   Tomas  R$18,260,992.00   R$537,088.00       R$113,400.00         R$252,000.00             True                    True\n",
            "\n",
            "Total de responsáveis que não atingiram nenhum objetivo: 2\n",
            "Valor total transacionado por responsáveis que não atingiram nenhum objetivo: R$17,772,208.00\n",
            "Valor total creditado por responsáveis que não atingiram nenhum objetivo: R$522,712.00\n",
            "\n",
            "Detalhes dos responsáveis que não atingiram nenhum dos objetivos:\n",
            "responsavel_id    name total_transacted     credited transaction_target transaction_C_target  target_achieved  credit_target_achieved\n",
            "        0001AG Antonyo   R$7,909,488.00 R$232,632.00       R$148,500.00         R$330,000.00             True                   False\n",
            "        0001RP  Rafael   R$9,862,720.00 R$290,080.00       R$135,000.00         R$300,000.00             True                   False\n"
          ]
        }
      ]
    },
    {
      "cell_type": "markdown",
      "source": [
        "### Pergunta 5: Com base no AUC do inicio do mês e nas transações realizadas calcule o AUC das contas dos clientes no dia 30/06/2024"
      ],
      "metadata": {
        "id": "QeGPU_l8owo0"
      }
    },
    {
      "cell_type": "markdown",
      "source": [
        "Primeiro, as datas nas colunas são convertidas para o tipo datetime. Em seguida, são filtradas as transações realizadas em junho de 2024 e agregadas por cliente e tipo (creditado ou debitado). A seguir, obtém-se o AUC inicial para o dia 1º de junho e mescla esses dados com os totais das transações. O saldo final de AUC é calculado adicionando o valor creditado e subtraindo o valor debitado do AUC inicial. São então filtrados apenas os clientes com valores não nulos. O resumo simplificado exibe o total de clientes, o valor total creditado, debitado e o AUC final para o dia 30/06/2024."
      ],
      "metadata": {
        "id": "HEL2zhq3mIg7"
      }
    },
    {
      "cell_type": "code",
      "source": [
        "df_account['date'] = pd.to_datetime(df_account['date'], format='%m/%d/%Y')\n",
        "df_transaction['date'] = pd.to_datetime(df_transaction['date'], format='%m/%d/%Y')\n",
        "\n",
        "df_transaction_june = df_transaction[(df_transaction['date'].dt.month == 6) & (df_transaction['date'].dt.year == 2024)]\n",
        "\n",
        "transaction_totals = df_transaction_june.groupby(['client_id', 'kind'])['value'].sum().unstack(fill_value=0)\n",
        "transaction_totals.columns = ['debited', 'credited']  # Renomear colunas para clareza\n",
        "\n",
        "initial_auc = df_account[df_account['date'].dt.day == 1][['client_id', 'AUC']].rename(columns={'AUC': 'initial_auc'})\n",
        "\n",
        "result = initial_auc.merge(transaction_totals, on='client_id', how='left').fillna(0)\n",
        "\n",
        "result['auc_final'] = result['initial_auc'] + result['credited'] - result['debited']\n",
        "\n",
        "result_filtered = result[(result['initial_auc'] != 0) | (result['credited'] != 0) | (result['debited'] != 0)]\n",
        "\n",
        "total_clients = result_filtered.shape[0]\n",
        "total_credited = result_filtered['credited'].sum()\n",
        "total_debited = result_filtered['debited'].sum()\n",
        "total_auc_final = result_filtered['auc_final'].sum()\n",
        "\n",
        "print(f\"Total de clientes com AUC no dia 30/06/2024: {total_clients}\")\n",
        "print(f\"Valor total creditado: R${total_credited:,.2f}\")\n",
        "print(f\"Valor total debitado: R${total_debited:,.2f}\")\n",
        "print(f\"Valor total AUC final: R${total_auc_final:,.2f}\")\n"
      ],
      "metadata": {
        "colab": {
          "base_uri": "https://localhost:8080/"
        },
        "id": "xl9VzBv6dUKE",
        "outputId": "859b46dd-3123-4d3e-9c19-13eb00fa7e51"
      },
      "execution_count": 22,
      "outputs": [
        {
          "output_type": "stream",
          "name": "stdout",
          "text": [
            "Total de clientes com AUC no dia 30/06/2024: 114\n",
            "Valor total creditado: R$6,373,150.00\n",
            "Valor total debitado: R$6,724,329.00\n",
            "Valor total AUC final: R$-351,179.00\n"
          ]
        }
      ]
    }
  ]
}